{
 "cells": [
  {
   "cell_type": "code",
   "execution_count": 1,
   "metadata": {
    "collapsed": false
   },
   "outputs": [],
   "source": [
    "from scipy import io\n",
    "import numpy as np"
   ]
  },
  {
   "cell_type": "code",
   "execution_count": 3,
   "metadata": {
    "collapsed": false
   },
   "outputs": [],
   "source": [
    "data = io.loadmat(\"test_data/ltest.mat\")"
   ]
  },
  {
   "cell_type": "code",
   "execution_count": 4,
   "metadata": {
    "collapsed": false
   },
   "outputs": [],
   "source": [
    "locations = data['ltest']"
   ]
  },
  {
   "cell_type": "code",
   "execution_count": 5,
   "metadata": {
    "collapsed": false
   },
   "outputs": [
    {
     "name": "stdout",
     "output_type": "stream",
     "text": [
      "(11, 3, 1016)\n"
     ]
    },
    {
     "data": {
      "text/plain": [
       "array([[ 133.96576827,   81.40857154,    1.        ],\n",
       "       [ 142.63442906,  118.32838744,    1.        ],\n",
       "       [ 106.87618159,  123.75777213,    1.        ],\n",
       "       [  71.11791677,   80.32269461,    1.        ],\n",
       "       [  60.28206475,  121.58601825,    1.        ],\n",
       "       [  84.12090796,  122.67189519,    1.        ],\n",
       "       [ 122.04634666,  157.4199572 ,    1.        ],\n",
       "       [  74.36866023,  156.33408026,    1.        ],\n",
       "       [ 104.70900772,   53.17577116,    1.        ],\n",
       "       [  94.95675998,   53.17577116,    1.        ],\n",
       "       [  99.29107303,   56.43340197,    1.        ]])"
      ]
     },
     "execution_count": 5,
     "metadata": {},
     "output_type": "execute_result"
    }
   ],
   "source": [
    "print np.shape(locations)\n",
    "locations[:,:,0]"
   ]
  },
  {
   "cell_type": "code",
   "execution_count": 6,
   "metadata": {
    "collapsed": false
   },
   "outputs": [],
   "source": [
    "locations = np.swapaxes(locations,0,2)\n",
    "locations = np.swapaxes(locations,1,2)"
   ]
  },
  {
   "cell_type": "code",
   "execution_count": 7,
   "metadata": {
    "collapsed": false
   },
   "outputs": [
    {
     "data": {
      "text/plain": [
       "(1016, 11, 3)"
      ]
     },
     "execution_count": 7,
     "metadata": {},
     "output_type": "execute_result"
    }
   ],
   "source": [
    "np.shape(locations)"
   ]
  },
  {
   "cell_type": "code",
   "execution_count": 8,
   "metadata": {
    "collapsed": false
   },
   "outputs": [
    {
     "data": {
      "text/plain": [
       "array([[ 133.96576827,   81.40857154,    1.        ],\n",
       "       [ 142.63442906,  118.32838744,    1.        ],\n",
       "       [ 106.87618159,  123.75777213,    1.        ],\n",
       "       [  71.11791677,   80.32269461,    1.        ],\n",
       "       [  60.28206475,  121.58601825,    1.        ],\n",
       "       [  84.12090796,  122.67189519,    1.        ],\n",
       "       [ 122.04634666,  157.4199572 ,    1.        ],\n",
       "       [  74.36866023,  156.33408026,    1.        ],\n",
       "       [ 104.70900772,   53.17577116,    1.        ],\n",
       "       [  94.95675998,   53.17577116,    1.        ],\n",
       "       [  99.29107303,   56.43340197,    1.        ]])"
      ]
     },
     "execution_count": 8,
     "metadata": {},
     "output_type": "execute_result"
    }
   ],
   "source": [
    "locations[0]"
   ]
  },
  {
   "cell_type": "code",
   "execution_count": null,
   "metadata": {
    "collapsed": true
   },
   "outputs": [],
   "source": [
    "new_locations =[]\n",
    "for i in range(len(locations)):\n",
    "    for j in range(len(locations[0]-2)):\n",
    "        new_locations"
   ]
  },
  {
   "cell_type": "code",
   "execution_count": 9,
   "metadata": {
    "collapsed": false
   },
   "outputs": [],
   "source": [
    "np.save(\"joints_test.npy\",locations)"
   ]
  },
  {
   "cell_type": "code",
   "execution_count": null,
   "metadata": {
    "collapsed": true
   },
   "outputs": [],
   "source": []
  }
 ],
 "metadata": {
  "kernelspec": {
   "display_name": "Python [Root]",
   "language": "python",
   "name": "Python [Root]"
  },
  "language_info": {
   "codemirror_mode": {
    "name": "ipython",
    "version": 2
   },
   "file_extension": ".py",
   "mimetype": "text/x-python",
   "name": "python",
   "nbconvert_exporter": "python",
   "pygments_lexer": "ipython2",
   "version": "2.7.12"
  }
 },
 "nbformat": 4,
 "nbformat_minor": 0
}
